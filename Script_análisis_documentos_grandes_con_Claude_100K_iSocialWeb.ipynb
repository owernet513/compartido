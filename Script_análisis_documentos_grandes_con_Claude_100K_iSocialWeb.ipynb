{
  "nbformat": 4,
  "nbformat_minor": 0,
  "metadata": {
    "colab": {
      "provenance": [],
      "include_colab_link": true
    },
    "kernelspec": {
      "name": "python3",
      "display_name": "Python 3"
    },
    "language_info": {
      "name": "python"
    }
  },
  "cells": [
    {
      "cell_type": "markdown",
      "metadata": {
        "id": "view-in-github",
        "colab_type": "text"
      },
      "source": [
        "<a href=\"https://colab.research.google.com/github/owernet513/compartido/blob/master/Script_an%C3%A1lisis_documentos_grandes_con_Claude_100K_iSocialWeb.ipynb\" target=\"_parent\"><img src=\"https://colab.research.google.com/assets/colab-badge.svg\" alt=\"Open In Colab\"/></a>"
      ]
    },
    {
      "cell_type": "code",
      "source": [
        "# Script generado por Álvaro Peña @isocialwebseo en twitter. Tienes libertad para modificar, mejorar y compartir parte o la totalidad del contenido de este script.\n",
        "# Eso sí, haz un uso responsable del mismo.\n",
        "\n",
        "# Instalamos las dependencias necesarias\n",
        "\n",
        "!pip install anthropic"
      ],
      "metadata": {
        "id": "mxWSGJDDqykS"
      },
      "execution_count": null,
      "outputs": []
    },
    {
      "cell_type": "code",
      "source": [
        "from anthropic import Anthropic, HUMAN_PROMPT, AI_PROMPT\n",
        "\n",
        "texto = input(\"Ingresa el texto a analizar:\")\n",
        "prompt = \"Responde siempre en español. Dime las principales propuestas en política de economia, ecología, sociedad y tecnología de este texto:\"\n",
        "\n",
        "\n",
        "anthropic = Anthropic(\n",
        "    # defaults to os.environ.get(\"ANTHROPIC_API_KEY\")\n",
        "    api_key=\"TU-API-KEY-CLAUDE-https://www.anthropic.com/\",\n",
        ")\n",
        "\n",
        "completion = anthropic.completions.create(\n",
        "    model=\"claude-2\",\n",
        "    max_tokens_to_sample=3000,\n",
        "    prompt=f\"{HUMAN_PROMPT} {prompt}: {texto} {AI_PROMPT}\",\n",
        ")\n",
        "print(completion.completion)"
      ],
      "metadata": {
        "id": "YjW6DLSC5Teb"
      },
      "execution_count": null,
      "outputs": []
    }
  ]
}